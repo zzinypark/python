{
 "cells": [
  {
   "cell_type": "markdown",
   "metadata": {
    "id": "WXEwMsfUct7U"
   },
   "source": [
    "안녕하세요.<br><br>\n",
    "수강생 여러분~!\n",
    "\n",
    "\"Challenge : 사칙연산을 이용해 문제 풀기\"는 잘 풀어보셨나요?\n",
    "\n",
    "\n",
    "너~~무 어려웠어요! 하는 분들을 위해 만들어봤습니다!\n",
    "\n",
    "문제 도장깨기 !!!!!\n",
    "\n",
    "차근차근 풀어나가면 파이썬 정복 가능입니다!\n",
    "\n",
    "화이팅 !\n",
    "\n",
    "Chapter04의 수업 내용을 바탕으로 아래 문제를 풀어주시면 됩니다.\n",
    "\n",
    "<br/>\n",
    "간혹 강의에서 언급되지 않은 내용이 문제로 나올 수 있습니다.<br>\n",
    "그럴땐 강의 내용 외 문제는 구글링을 통해 해결해주세요<br></span>\n",
    "<span style=\"font-size:80%\">\n",
    "(구글링 또한 개발자가 갖쳐야할 역량 중에 하나랍니다 😊)\n",
    "</span>\n",
    "\n",
    "\n",
    "<br>\n",
    "<br>\n",
    "\n",
    "[**답변 입력 방법**]\n",
    "\n",
    "문제 아래에 있는 코드 입력창에 정답코드를 작성하신 후  __▷ 버튼을 클릭해 코드를 실행__ 해보세요<br>\n",
    "<br>"
   ]
  },
  {
   "cell_type": "markdown",
   "metadata": {
    "id": "qoyC9wF-3hvs"
   },
   "source": [
    "-----"
   ]
  },
  {
   "cell_type": "markdown",
   "metadata": {
    "id": "CK1F2jYeTBF9"
   },
   "source": [
    "<br>\n",
    "\n",
    "__[문제1]__\n",
    "\n",
    "한 상자에 사과가 7개 들어있습니다.\n",
    "\n",
    "사과가 많이 먹고 싶어서 3개의 상자를 구입했습니다!\n",
    "\n",
    "총 사과의 개수를 계산해주세요.\n",
    "\n",
    "\n",
    "<br>"
   ]
  },
  {
   "cell_type": "code",
   "execution_count": 1,
   "metadata": {
    "id": "ORcGVqx0TBF-"
   },
   "outputs": [
    {
     "name": "stdout",
     "output_type": "stream",
     "text": [
      "21\n"
     ]
    }
   ],
   "source": [
    "print(7*3)"
   ]
  },
  {
   "cell_type": "markdown",
   "metadata": {
    "id": "S5lJgYxbTBF_"
   },
   "source": [
    "<br>\n",
    "\n",
    "__[문제2]__\n",
    "\n",
    "영화 티켓 한 장의 가격은 10,000원입니다.\n",
    "\n",
    "친구 한명이 로또에 당첨되서 티켓을 사준다고 합니다!\n",
    "\n",
    "4명의 친구가 각각 4장씩 구매할 때, 총 가격이 어떻게 되는지 계산해주세요\n",
    "\n",
    "<br>"
   ]
  },
  {
   "cell_type": "code",
   "execution_count": 2,
   "metadata": {
    "id": "98Y_DrqPTBGA"
   },
   "outputs": [
    {
     "name": "stdout",
     "output_type": "stream",
     "text": [
      "160000\n"
     ]
    }
   ],
   "source": [
    "print(4 * 4 * 10000)"
   ]
  },
  {
   "cell_type": "markdown",
   "metadata": {
    "id": "rAD_O3Gmc_43"
   },
   "source": [
    "<br>\n",
    "\n",
    "__[문제3]__\n",
    "\n",
    "지각입니다 !!!!!\n",
    "\n",
    "지하철을 타고 5개의 역이 남았습니다.\n",
    "\n",
    "각 역은 3분씩 걸립니다. 시간을 계산해볼 수 있도록 5개의 역을 지나는데 걸린 총 시간을 구해주세요.\n",
    "\n"
   ]
  },
  {
   "cell_type": "code",
   "execution_count": 3,
   "metadata": {
    "id": "74wtVQFFc_h1"
   },
   "outputs": [
    {
     "name": "stdout",
     "output_type": "stream",
     "text": [
      "15\n"
     ]
    }
   ],
   "source": [
    "print(5 * 3)"
   ]
  },
  {
   "cell_type": "markdown",
   "metadata": {
    "id": "3uK_auXYdgk2"
   },
   "source": [
    "<br>__[문제4]__\n",
    "\n",
    "파이썬 기초 관련 책이 9권 있습니다.\n",
    "\n",
    "오즈코딩스쿨을 통해 파이썬을 마스터 해버려서 필요없습니다.\n",
    "\n",
    "책을 3명의 친구에게 똑같이 나눠줄 때, 각 사람에게 몇 권씩 나누어줄 수 있을까요?\n"
   ]
  },
  {
   "cell_type": "code",
   "execution_count": null,
   "metadata": {
    "id": "9kvBxa6PdhgA"
   },
   "outputs": [
    {
     "name": "stdout",
     "output_type": "stream",
     "text": [
      "3\n"
     ]
    }
   ],
   "source": [
    "print(9 // 3)"
   ]
  },
  {
   "cell_type": "markdown",
   "metadata": {
    "id": "2Jte2VLKdiPm"
   },
   "source": [
    "__[문제5]__\n",
    "\n",
    "무인도에 2명의 갇혀있습니다.\n",
    "\n",
    "가진건 초콜릿 8개뿐,,\n",
    "\n",
    "각 사람은 초콜릿을 몇 개씩 먹을 수 있을까요?\n",
    "\n"
   ]
  },
  {
   "cell_type": "code",
   "execution_count": 5,
   "metadata": {
    "id": "AHyAYKxqTBGC"
   },
   "outputs": [
    {
     "name": "stdout",
     "output_type": "stream",
     "text": [
      "4\n"
     ]
    }
   ],
   "source": [
    "print(8 // 2)"
   ]
  },
  {
   "cell_type": "markdown",
   "metadata": {
    "id": "pKessNN4Usql"
   },
   "source": [
    "<br>\n",
    "\n",
    "__[문제6]__\n",
    "\n",
    "한 변의 길이가 5인 정사각형이 있습니다.\n",
    "\n",
    "정사각형의 넓이를 구하세요.\n",
    "<br>"
   ]
  },
  {
   "cell_type": "code",
   "execution_count": 6,
   "metadata": {
    "id": "t7TQveQmUsqm"
   },
   "outputs": [
    {
     "name": "stdout",
     "output_type": "stream",
     "text": [
      "25\n"
     ]
    }
   ],
   "source": [
    "print(5 * 5)"
   ]
  }
 ],
 "metadata": {
  "colab": {
   "provenance": []
  },
  "kernelspec": {
   "display_name": "Python 3",
   "name": "python3"
  },
  "language_info": {
   "codemirror_mode": {
    "name": "ipython",
    "version": 3
   },
   "file_extension": ".py",
   "mimetype": "text/x-python",
   "name": "python",
   "nbconvert_exporter": "python",
   "pygments_lexer": "ipython3",
   "version": "3.9.6"
  }
 },
 "nbformat": 4,
 "nbformat_minor": 0
}
